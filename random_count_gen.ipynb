{
 "cells": [
  {
   "cell_type": "markdown",
   "metadata": {},
   "source": [
    "## Christian Hansen\n",
    "\n",
    "Creating a class object to produce weighted random number generator.  "
   ]
  },
  {
   "cell_type": "markdown",
   "metadata": {},
   "source": [
    "### 1.) Create a function that prints a random number between 1 and 5 to stdout (or console). The probability distribution of the numbers should be as follows:\n",
    "\n",
    "1 - 50%\n",
    "\n",
    "2 - 25%\n",
    "\n",
    "3 - 15%\n",
    "\n",
    "4 - 5%\n",
    "\n",
    "5 - 5%\n"
   ]
  },
  {
   "cell_type": "markdown",
   "metadata": {},
   "source": [
    "Creating a function to return a number given a distinct probability for each number. Relying on the numpy library and it's random.choice function to asign probability weights to each value."
   ]
  },
  {
   "cell_type": "code",
   "execution_count": 1,
   "metadata": {
    "collapsed": true
   },
   "outputs": [],
   "source": [
    "def weighted_random():\n",
    "    from numpy.random import choice\n",
    "    elements = ['1', '2', '3','4','5'] \n",
    "    weights = [.5,.25,.15,.05,.05]\n",
    "    return(choice(elements, p=weights))"
   ]
  },
  {
   "cell_type": "code",
   "execution_count": 2,
   "metadata": {},
   "outputs": [
    {
     "data": {
      "text/plain": [
       "'1'"
      ]
     },
     "execution_count": 2,
     "metadata": {},
     "output_type": "execute_result"
    }
   ],
   "source": [
    "# The most probable value will be 1, of course.\n",
    "weighted_random()"
   ]
  },
  {
   "cell_type": "markdown",
   "metadata": {},
   "source": [
    "### 2.) Change the function to a method, add a class member that stores a history of the last 100 numbers, and a function to return the frequency percentages of each number."
   ]
  },
  {
   "cell_type": "markdown",
   "metadata": {},
   "source": [
    "Incorporating class structure and adding instance methods to both call  the weighted random number 100 times, store them, and a function to calculate the frequency of values.\n",
    "\n",
    "Using now the collections.Counter function to help count the frequency of each number."
   ]
  },
  {
   "cell_type": "code",
   "execution_count": 3,
   "metadata": {
    "collapsed": true
   },
   "outputs": [],
   "source": [
    "from numpy.random import choice\n",
    "\n",
    "class random_weights(object):\n",
    "    \n",
    "    def __init__(self):\n",
    "        pass\n",
    "    \n",
    "    def weighted_random(self):\n",
    "        \n",
    "        elements = ['1', '2', '3','4','5'] \n",
    "        weights = [.5,.25,.15,.05,.05]\n",
    "        return(choice(elements, p=weights))\n",
    "    \n",
    "    def hundred_hist(self):\n",
    "        hist = []\n",
    "        time_val = []\n",
    "        for i in range(0,100):\n",
    "            hist.append(self.weighted_random())\n",
    "        return(hist)\n",
    "    \n",
    "    def freq_hundred(self):\n",
    "        hist = self.hundred_hist()\n",
    "        from collections import Counter\n",
    "        freqs = Counter(hist)\n",
    "        return(freqs)"
   ]
  },
  {
   "cell_type": "code",
   "execution_count": 4,
   "metadata": {},
   "outputs": [],
   "source": [
    "## Creating an instance of the class\n",
    "a = random_weights()"
   ]
  },
  {
   "cell_type": "code",
   "execution_count": 5,
   "metadata": {},
   "outputs": [
    {
     "name": "stdout",
     "output_type": "stream",
     "text": [
      "Counter({'1': 49, '2': 23, '3': 17, '5': 6, '4': 5})\n"
     ]
    }
   ],
   "source": [
    "## using the instance method freq_hundred to calculate the frequencies of values\n",
    "print(a.freq_hundred())"
   ]
  },
  {
   "cell_type": "markdown",
   "metadata": {},
   "source": [
    "### 3.) Create a method that reads the most recently generated random number and the current time and writes them both to disk on one line."
   ]
  },
  {
   "cell_type": "markdown",
   "metadata": {},
   "source": [
    "Same class structure as before, but an added function to calculate a random number and return the time it was generated and store both the number and the time to a .txt file."
   ]
  },
  {
   "cell_type": "code",
   "execution_count": 6,
   "metadata": {},
   "outputs": [],
   "source": [
    "from numpy.random import choice\n",
    "import datetime\n",
    "\n",
    "class random_weights(object):\n",
    "    \n",
    "    def __init__(self):\n",
    "        pass\n",
    "    \n",
    "    def weighted_random(self):\n",
    "        elements = ['1', '2', '3','4','5'] \n",
    "        weights = [.5,.25,.15,.05,.05]\n",
    "        return(choice(elements, p=weights))\n",
    "    \n",
    "    def recent_random(self):\n",
    "        \n",
    "        recent = self.weighted_random()\n",
    "        time_val = datetime.datetime.now()\n",
    "        text_file = open(\"Output_%s.txt\"%(time_val), \"w\")\n",
    "        text_file.write(\"Most Recent: %s, time: %s\" % (recent,time_val.strftime(\"%Y-%m-%d %H:%M:%S:%f\")))\n",
    "        text_file.close()\n",
    "        print(recent,time_val.strftime(\"%Y-%m-%d %H:%M:%S:%f\"))\n",
    "        return(recent, time_val)\n",
    "    \n",
    "    def hundred_hist(self):\n",
    "        hist = []\n",
    "        time_val = []\n",
    "        for i in range(0,100):\n",
    "            hist.append(self.weighted_random())\n",
    "            time_val.append(datetime.datetime.now())\n",
    "        return(hist, time_val)\n",
    "    \n",
    "    def freq_hundred(self):\n",
    "        hist, time = self.hundred_hist()\n",
    "        from collections import Counter\n",
    "        freqs = Counter(hist)\n",
    "        return(freqs)"
   ]
  },
  {
   "cell_type": "code",
   "execution_count": 7,
   "metadata": {
    "collapsed": true
   },
   "outputs": [],
   "source": [
    "b = random_weights()"
   ]
  },
  {
   "cell_type": "code",
   "execution_count": 8,
   "metadata": {},
   "outputs": [
    {
     "name": "stdout",
     "output_type": "stream",
     "text": [
      "('2', '2017-10-09 10:31:57:574124')\n"
     ]
    },
    {
     "data": {
      "text/plain": [
       "('2', datetime.datetime(2017, 10, 9, 10, 31, 57, 574124))"
      ]
     },
     "execution_count": 8,
     "metadata": {},
     "output_type": "execute_result"
    }
   ],
   "source": [
    "b.recent_random()"
   ]
  },
  {
   "cell_type": "code",
   "execution_count": 9,
   "metadata": {},
   "outputs": [
    {
     "data": {
      "text/plain": [
       "Counter({'1': 53, '2': 18, '3': 19, '4': 4, '5': 6})"
      ]
     },
     "execution_count": 9,
     "metadata": {},
     "output_type": "execute_result"
    }
   ],
   "source": [
    "b = random_weights()\n",
    "b.freq_hundred()"
   ]
  },
  {
   "cell_type": "markdown",
   "metadata": {},
   "source": [
    "### 4.) Modify the writer function so it is launched in a different thread. The random number generator should put the numbers and timestamps into a queue that the writer function uses to write its output to disk."
   ]
  },
  {
   "cell_type": "code",
   "execution_count": 107,
   "metadata": {
    "collapsed": true
   },
   "outputs": [],
   "source": [
    "from numpy.random import choice\n",
    "import datetime\n",
    "\n",
    "class random_weights(object):\n",
    "    \n",
    "    def __init__(self):\n",
    "        pass\n",
    "    \n",
    "    def weighted_random(self):\n",
    "        elements = ['1', '2', '3','4','5'] \n",
    "        weights = [.5,.25,.15,.05,.05]\n",
    "        return(choice(elements, p=weights))\n",
    "    \n",
    "    def recent_random(self):\n",
    "        \n",
    "        recent = self.weighted_random()\n",
    "        time_val = datetime.datetime.now()\n",
    "        text_file = open(\"Output_%s.txt\"%(time_val.strftime(\"%Y-%m-%d%H:%M:%S:%f\")), \"w\")\n",
    "        text_file.write(\"Most Recent: %s, time: %s\" % (recent,time_val.strftime(\"%Y-%m-%d%H:%M:%S:%f\")))\n",
    "        text_file.close()\n",
    "        print(recent,time_val.strftime(\"%Y-%m-%d %H:%M:%S:%f\"))\n",
    "        return(recent)\n",
    "    \n",
    "    def recent_random_threading(self):\n",
    "        \n",
    "        import thread\n",
    "        try:\n",
    "            thread.start_new_thread( self.recent_random, () )\n",
    "        except:\n",
    "            print \"Error: unable to start thread\"\n",
    "            \n",
    "    def hundred_hist(self):\n",
    "        hist = []\n",
    "        time_val = []\n",
    "        for i in range(0,100):\n",
    "            hist.append(self.weighted_random())\n",
    "            time_val.append(datetime.datetime.now())\n",
    "        return(hist, time_val)\n",
    "    \n",
    "    def freq_hundred(self):\n",
    "        hist, time = self.hundred_hist()\n",
    "        from collections import Counter\n",
    "        freqs = Counter(hist)\n",
    "        return(freqs)"
   ]
  },
  {
   "cell_type": "markdown",
   "metadata": {},
   "source": [
    "Incorporating threading using a low level API called \"thread\". Starting a thread simply requires passing a function to the start_new_thread function. The threading function runs the function passed to it in a new thread."
   ]
  },
  {
   "cell_type": "code",
   "execution_count": 108,
   "metadata": {},
   "outputs": [
    {
     "name": "stdout",
     "output_type": "stream",
     "text": [
      "('1', '2017-10-09 10:42:39:931613')\n"
     ]
    }
   ],
   "source": [
    "c = random_weights()\n",
    "c.recent_random_threading()"
   ]
  },
  {
   "cell_type": "markdown",
   "metadata": {},
   "source": [
    "### 5.) Modify the program so it has 5 copies of the random number function running concurrently in different threads. They should all feed the single writer thread counts and timestamps, and the writer should ensure they are written in chronological order."
   ]
  },
  {
   "cell_type": "code",
   "execution_count": 142,
   "metadata": {},
   "outputs": [],
   "source": [
    "from numpy.random import choice\n",
    "import datetime\n",
    "\n",
    "class random_weights(object):\n",
    "    \n",
    "    def weighted_random(self):\n",
    "        elements = ['1', '2', '3','4','5'] \n",
    "        weights = [.5,.25,.15,.05,.05]\n",
    "        return(choice(elements, p=weights))\n",
    "    \n",
    "    def recent_random(self):\n",
    "        recent = self.weighted_random()\n",
    "        time_val = datetime.datetime.now()\n",
    "        text_file = open(\"Output_%s.txt\"%(time_val.strftime(\"%Y-%m-%d%H:%M:%S:%f\")), \"w\")\n",
    "        text_file.write(\"Most Recent: %s, time: %s\" % (recent,time_val.strftime(\"%Y-%m-%d%H:%M:%S:%f\")))\n",
    "        text_file.close()\n",
    "        print(recent,time_val.strftime(\"%Y-%m-%d %H:%M:%S:%f\"))\n",
    "        return(recent, time_val)\n",
    "    \n",
    "    def recent_random_threading(self):\n",
    "        import thread\n",
    "        try:\n",
    "            thread.start_new_thread( self.recent_random, ())\n",
    "        except:\n",
    "            print \"Error: unable to start thread\"\n",
    "    \n",
    "    def recent_random_five_threading(self):\n",
    "        import threading\n",
    "        import time\n",
    "        threads = []\n",
    "        for i in range(0,5):\n",
    "            try:\n",
    "                t = threading.Thread(target=self.recent_random, args=())\n",
    "                time.sleep(0.2)\n",
    "                threads.append(t)\n",
    "                t.start()\n",
    "                t.join()\n",
    "                print(t.getName())\n",
    "            except:\n",
    "                print \"Error: unable to start thread\"\n",
    "    \n",
    "    def hundred_hist(self):\n",
    "        hist = []\n",
    "        time_val = []\n",
    "        for i in range(0,100):\n",
    "            hist.append(self.weighted_random())\n",
    "            time_val.append(datetime.datetime.now())\n",
    "        return(hist, time_val)\n",
    "    \n",
    "    def freq_hundred(self):\n",
    "        hist, time = self.hundred_hist()\n",
    "        from collections import Counter\n",
    "        freqs = Counter(hist)\n",
    "        return(freqs)"
   ]
  },
  {
   "cell_type": "markdown",
   "metadata": {},
   "source": [
    "Adding a new function that does multithreading, it uses a more complex API, but allows for more control. I added a sleep time to gaurantee a solid space for threads in the que."
   ]
  },
  {
   "cell_type": "code",
   "execution_count": 145,
   "metadata": {},
   "outputs": [
    {
     "name": "stdout",
     "output_type": "stream",
     "text": [
      "('2', '2017-10-09 10:49:02:884152')\n",
      "Thread-157\n",
      "('1', '2017-10-09 10:49:03:088030')\n",
      "Thread-158\n",
      "('1', '2017-10-09 10:49:03:293897')\n",
      "Thread-159\n",
      "('1', '2017-10-09 10:49:03:500908')\n",
      "Thread-160\n",
      "('1', '2017-10-09 10:49:03:708931')\n",
      "Thread-161\n"
     ]
    }
   ],
   "source": [
    "d = random_weights()\n",
    "d.recent_random_five_threading()"
   ]
  },
  {
   "cell_type": "markdown",
   "metadata": {},
   "source": [
    "Multithreading in python still adhears to linear prosecution of a function per thread. If I were to parallelize, or use multiple processing, it could be done at the same time, but that's not the case here.\n",
    "\n",
    "\n",
    "This is due to the global interpreter lock (GIL). In any python program only one thread is executed at a time. \n",
    "\n",
    "This does a great job describing threading using python:\n",
    "\n",
    "https://jeffknupp.com/blog/2012/03/31/pythons-hardest-problem/\n",
    "\n",
    "\n",
    "I'll look into multi-processing instead."
   ]
  },
  {
   "cell_type": "code",
   "execution_count": 232,
   "metadata": {},
   "outputs": [
    {
     "name": "stdout",
     "output_type": "stream",
     "text": [
      "('1', '2017-10-09 11:23:23:750144')\n",
      "('2', '2017-10-09 11:23:23:786621')\n",
      "('3', '2017-10-09 11:23:23:831790')\n",
      "('1', '2017-10-09 11:23:23:881609')\n",
      "('1', '2017-10-09 11:23:23:921843')\n"
     ]
    }
   ],
   "source": [
    "from multiprocessing import Process\n",
    "for num in range(0,5):\n",
    "    P = Process(target=random_weights().recent_random())\n",
    "    P.start()\n",
    "    P.join()"
   ]
  },
  {
   "cell_type": "markdown",
   "metadata": {},
   "source": [
    "The multiprocessing function works a lot like the threading function, but is not limited to GIL."
   ]
  },
  {
   "cell_type": "code",
   "execution_count": null,
   "metadata": {
    "collapsed": true
   },
   "outputs": [],
   "source": []
  }
 ],
 "metadata": {
  "kernelspec": {
   "display_name": "Python 2",
   "language": "python",
   "name": "python2"
  },
  "language_info": {
   "codemirror_mode": {
    "name": "ipython",
    "version": 2
   },
   "file_extension": ".py",
   "mimetype": "text/x-python",
   "name": "python",
   "nbconvert_exporter": "python",
   "pygments_lexer": "ipython2",
   "version": "2.7.13"
  }
 },
 "nbformat": 4,
 "nbformat_minor": 2
}
