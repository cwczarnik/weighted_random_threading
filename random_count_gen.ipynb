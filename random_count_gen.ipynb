{
 "cells": [
  {
   "cell_type": "markdown",
   "metadata": {},
   "source": [
    "### Create a function that prints a random number between 1 and 5 to stdout (or console). The probability distribution of the numbers should be as follows:\n",
    "\n",
    "1 - 50%\n",
    "\n",
    "2 - 25%\n",
    "\n",
    "3 - 15%\n",
    "\n",
    "4 - 5%\n",
    "\n",
    "5 - 5%\n"
   ]
  },
  {
   "cell_type": "code",
   "execution_count": 155,
   "metadata": {
    "collapsed": true
   },
   "outputs": [],
   "source": [
    "def weighted_random():\n",
    "    from numpy.random import choice\n",
    "    elements = ['1', '2', '3','4','5'] \n",
    "    weights = [.5,.25,.15,.05,.05]\n",
    "    return(choice(elements, p=weights))"
   ]
  },
  {
   "cell_type": "code",
   "execution_count": 156,
   "metadata": {},
   "outputs": [
    {
     "data": {
      "text/plain": [
       "'2'"
      ]
     },
     "execution_count": 156,
     "metadata": {},
     "output_type": "execute_result"
    }
   ],
   "source": [
    "weighted_random()"
   ]
  },
  {
   "cell_type": "markdown",
   "metadata": {},
   "source": [
    "### Change the function to a method, add a class member that stores a history of the last 100 numbers, and a function to return the frequency percentages of each number."
   ]
  },
  {
   "cell_type": "code",
   "execution_count": 157,
   "metadata": {
    "collapsed": true
   },
   "outputs": [],
   "source": [
    "from numpy.random import choice\n",
    "import datetime\n",
    "\n",
    "class random_weights(object):\n",
    "    \n",
    "    def weighted_random(self):\n",
    "        elements = ['1', '2', '3','4','5'] \n",
    "        weights = [.5,.25,.15,.05,.05]\n",
    "        return(choice(elements, p=weights))\n",
    "    \n",
    "    def hundred_hist(self):\n",
    "        hist = []\n",
    "        time_val = []\n",
    "        for i in range(0,100):\n",
    "            hist.append(self.weighted_random())\n",
    "            time_val.append(datetime.datetime.now())\n",
    "        return(hist, time_val)\n",
    "    \n",
    "    def freq_hundred(self):\n",
    "        hist, time = self.hundred_hist()\n",
    "        from collections import Counter\n",
    "        freqs = Counter(hist)\n",
    "        return(freqs)"
   ]
  },
  {
   "cell_type": "code",
   "execution_count": 202,
   "metadata": {},
   "outputs": [
    {
     "name": "stdout",
     "output_type": "stream",
     "text": [
      "(['4', '1', '1', '5', '2', '1', '1', '2', '1', '1', '2', '1', '2', '1', '5', '2', '2', '1', '2', '5', '3', '4', '1', '2', '1', '1', '4', '3', '2', '5', '1', '2', '1', '2', '1', '1', '1', '1', '1', '1', '2', '1', '3', '3', '1', '1', '1', '2', '2', '1', '1', '3', '2', '2', '2', '1', '1', '1', '1', '1', '1', '1', '3', '3', '1', '4', '2', '4', '2', '1', '1', '1', '2', '5', '1', '2', '1', '1', '2', '1', '1', '1', '1', '3', '1', '1', '3', '4', '1', '1', '2', '2', '4', '5', '3', '1', '1', '1', '2', '3'], [datetime.datetime(2017, 10, 8, 19, 27, 17, 403111), datetime.datetime(2017, 10, 8, 19, 27, 17, 403422), datetime.datetime(2017, 10, 8, 19, 27, 17, 403504), datetime.datetime(2017, 10, 8, 19, 27, 17, 403588), datetime.datetime(2017, 10, 8, 19, 27, 17, 403652), datetime.datetime(2017, 10, 8, 19, 27, 17, 403864), datetime.datetime(2017, 10, 8, 19, 27, 17, 403960), datetime.datetime(2017, 10, 8, 19, 27, 17, 404110), datetime.datetime(2017, 10, 8, 19, 27, 17, 404193), datetime.datetime(2017, 10, 8, 19, 27, 17, 404272), datetime.datetime(2017, 10, 8, 19, 27, 17, 404348), datetime.datetime(2017, 10, 8, 19, 27, 17, 404423), datetime.datetime(2017, 10, 8, 19, 27, 17, 404513), datetime.datetime(2017, 10, 8, 19, 27, 17, 404597), datetime.datetime(2017, 10, 8, 19, 27, 17, 404678), datetime.datetime(2017, 10, 8, 19, 27, 17, 404760), datetime.datetime(2017, 10, 8, 19, 27, 17, 404848), datetime.datetime(2017, 10, 8, 19, 27, 17, 404931), datetime.datetime(2017, 10, 8, 19, 27, 17, 405012), datetime.datetime(2017, 10, 8, 19, 27, 17, 405089), datetime.datetime(2017, 10, 8, 19, 27, 17, 405167), datetime.datetime(2017, 10, 8, 19, 27, 17, 405268), datetime.datetime(2017, 10, 8, 19, 27, 17, 405378), datetime.datetime(2017, 10, 8, 19, 27, 17, 405475), datetime.datetime(2017, 10, 8, 19, 27, 17, 405565), datetime.datetime(2017, 10, 8, 19, 27, 17, 405653), datetime.datetime(2017, 10, 8, 19, 27, 17, 405740), datetime.datetime(2017, 10, 8, 19, 27, 17, 405884), datetime.datetime(2017, 10, 8, 19, 27, 17, 405972), datetime.datetime(2017, 10, 8, 19, 27, 17, 406059), datetime.datetime(2017, 10, 8, 19, 27, 17, 406123), datetime.datetime(2017, 10, 8, 19, 27, 17, 406197), datetime.datetime(2017, 10, 8, 19, 27, 17, 406259), datetime.datetime(2017, 10, 8, 19, 27, 17, 406320), datetime.datetime(2017, 10, 8, 19, 27, 17, 406385), datetime.datetime(2017, 10, 8, 19, 27, 17, 406453), datetime.datetime(2017, 10, 8, 19, 27, 17, 406515), datetime.datetime(2017, 10, 8, 19, 27, 17, 406577), datetime.datetime(2017, 10, 8, 19, 27, 17, 406652), datetime.datetime(2017, 10, 8, 19, 27, 17, 406713), datetime.datetime(2017, 10, 8, 19, 27, 17, 406774), datetime.datetime(2017, 10, 8, 19, 27, 17, 406836), datetime.datetime(2017, 10, 8, 19, 27, 17, 406907), datetime.datetime(2017, 10, 8, 19, 27, 17, 406969), datetime.datetime(2017, 10, 8, 19, 27, 17, 407030), datetime.datetime(2017, 10, 8, 19, 27, 17, 407091), datetime.datetime(2017, 10, 8, 19, 27, 17, 407162), datetime.datetime(2017, 10, 8, 19, 27, 17, 407224), datetime.datetime(2017, 10, 8, 19, 27, 17, 407285), datetime.datetime(2017, 10, 8, 19, 27, 17, 407350), datetime.datetime(2017, 10, 8, 19, 27, 17, 407415), datetime.datetime(2017, 10, 8, 19, 27, 17, 407476), datetime.datetime(2017, 10, 8, 19, 27, 17, 407537), datetime.datetime(2017, 10, 8, 19, 27, 17, 407633), datetime.datetime(2017, 10, 8, 19, 27, 17, 407682), datetime.datetime(2017, 10, 8, 19, 27, 17, 407730), datetime.datetime(2017, 10, 8, 19, 27, 17, 407777), datetime.datetime(2017, 10, 8, 19, 27, 17, 407827), datetime.datetime(2017, 10, 8, 19, 27, 17, 407874), datetime.datetime(2017, 10, 8, 19, 27, 17, 407921), datetime.datetime(2017, 10, 8, 19, 27, 17, 407967), datetime.datetime(2017, 10, 8, 19, 27, 17, 408017), datetime.datetime(2017, 10, 8, 19, 27, 17, 408063), datetime.datetime(2017, 10, 8, 19, 27, 17, 408117), datetime.datetime(2017, 10, 8, 19, 27, 17, 408168), datetime.datetime(2017, 10, 8, 19, 27, 17, 408215), datetime.datetime(2017, 10, 8, 19, 27, 17, 408261), datetime.datetime(2017, 10, 8, 19, 27, 17, 408308), datetime.datetime(2017, 10, 8, 19, 27, 17, 408358), datetime.datetime(2017, 10, 8, 19, 27, 17, 408404), datetime.datetime(2017, 10, 8, 19, 27, 17, 408450), datetime.datetime(2017, 10, 8, 19, 27, 17, 408496), datetime.datetime(2017, 10, 8, 19, 27, 17, 408546), datetime.datetime(2017, 10, 8, 19, 27, 17, 408592), datetime.datetime(2017, 10, 8, 19, 27, 17, 408638), datetime.datetime(2017, 10, 8, 19, 27, 17, 408686), datetime.datetime(2017, 10, 8, 19, 27, 17, 408733), datetime.datetime(2017, 10, 8, 19, 27, 17, 408779), datetime.datetime(2017, 10, 8, 19, 27, 17, 408824), datetime.datetime(2017, 10, 8, 19, 27, 17, 408873), datetime.datetime(2017, 10, 8, 19, 27, 17, 408919), datetime.datetime(2017, 10, 8, 19, 27, 17, 408965), datetime.datetime(2017, 10, 8, 19, 27, 17, 409011), datetime.datetime(2017, 10, 8, 19, 27, 17, 409060), datetime.datetime(2017, 10, 8, 19, 27, 17, 409106), datetime.datetime(2017, 10, 8, 19, 27, 17, 409152), datetime.datetime(2017, 10, 8, 19, 27, 17, 409198), datetime.datetime(2017, 10, 8, 19, 27, 17, 409247), datetime.datetime(2017, 10, 8, 19, 27, 17, 409293), datetime.datetime(2017, 10, 8, 19, 27, 17, 409340), datetime.datetime(2017, 10, 8, 19, 27, 17, 409388), datetime.datetime(2017, 10, 8, 19, 27, 17, 409435), datetime.datetime(2017, 10, 8, 19, 27, 17, 409480), datetime.datetime(2017, 10, 8, 19, 27, 17, 409527), datetime.datetime(2017, 10, 8, 19, 27, 17, 409576), datetime.datetime(2017, 10, 8, 19, 27, 17, 409622), datetime.datetime(2017, 10, 8, 19, 27, 17, 409700), datetime.datetime(2017, 10, 8, 19, 27, 17, 409797), datetime.datetime(2017, 10, 8, 19, 27, 17, 409890), datetime.datetime(2017, 10, 8, 19, 27, 17, 410161)])\n"
     ]
    }
   ],
   "source": [
    "a = random_weights()\n",
    "print(a.hundred_hist())"
   ]
  },
  {
   "cell_type": "code",
   "execution_count": 204,
   "metadata": {},
   "outputs": [
    {
     "name": "stdout",
     "output_type": "stream",
     "text": [
      "Counter({'1': 57, '2': 17, '3': 14, '5': 7, '4': 5})\n"
     ]
    }
   ],
   "source": [
    "print(a.freq_hundred())"
   ]
  },
  {
   "cell_type": "markdown",
   "metadata": {},
   "source": [
    "### Create a method that reads the most recently generated random number and the current time and writes them both to disk on one line."
   ]
  },
  {
   "cell_type": "code",
   "execution_count": 158,
   "metadata": {},
   "outputs": [],
   "source": [
    "from numpy.random import choice\n",
    "import datetime\n",
    "\n",
    "class random_weights(object):\n",
    "    \n",
    "    def weighted_random(self):\n",
    "        elements = ['1', '2', '3','4','5'] \n",
    "        weights = [.5,.25,.15,.05,.05]\n",
    "        return(choice(elements, p=weights))\n",
    "    \n",
    "    def recent_random(self):\n",
    "        \n",
    "        recent = self.weighted_random()\n",
    "        time_val = datetime.datetime.now()\n",
    "        text_file = open(\"Output_%s.txt\"%(time_val), \"w\")\n",
    "        text_file.write(\"Most Recent: %s, time: %s\" % (recent,time_val.strftime(\"%Y-%m-%d %H:%M:%S:%f\")))\n",
    "        text_file.close()\n",
    "        print(recent,time_val.strftime(\"%Y-%m-%d %H:%M:%S:%f\"))\n",
    "        return(recent, time_val)\n",
    "    \n",
    "    def hundred_hist(self):\n",
    "        hist = []\n",
    "        time_val = []\n",
    "        for i in range(0,100):\n",
    "            hist.append(self.weighted_random())\n",
    "            time_val.append(datetime.datetime.now())\n",
    "        return(hist, time_val)\n",
    "    \n",
    "    def freq_hundred(self):\n",
    "        hist, time = self.hundred_hist()\n",
    "        from collections import Counter\n",
    "        freqs = Counter(hist)\n",
    "        return(freqs)"
   ]
  },
  {
   "cell_type": "code",
   "execution_count": 159,
   "metadata": {
    "collapsed": true
   },
   "outputs": [],
   "source": [
    "b = random_weights()"
   ]
  },
  {
   "cell_type": "code",
   "execution_count": 160,
   "metadata": {},
   "outputs": [
    {
     "name": "stdout",
     "output_type": "stream",
     "text": [
      "('4', '2017-10-08 18:48:34:355991')\n"
     ]
    },
    {
     "data": {
      "text/plain": [
       "('4', datetime.datetime(2017, 10, 8, 18, 48, 34, 355991))"
      ]
     },
     "execution_count": 160,
     "metadata": {},
     "output_type": "execute_result"
    }
   ],
   "source": [
    "b.recent_random()"
   ]
  },
  {
   "cell_type": "code",
   "execution_count": 161,
   "metadata": {},
   "outputs": [
    {
     "data": {
      "text/plain": [
       "Counter({'1': 46, '2': 25, '3': 19, '4': 6, '5': 4})"
      ]
     },
     "execution_count": 161,
     "metadata": {},
     "output_type": "execute_result"
    }
   ],
   "source": [
    "b = random_weights()\n",
    "b.freq_hundred()"
   ]
  },
  {
   "cell_type": "markdown",
   "metadata": {},
   "source": [
    "# Modify the writer function so it is launched in a different thread. The random number generator should put the numbers and timestamps into a queue that the writer function uses to write its output to disk."
   ]
  },
  {
   "cell_type": "code",
   "execution_count": 174,
   "metadata": {
    "collapsed": true
   },
   "outputs": [],
   "source": [
    "from numpy.random import choice\n",
    "import datetime\n",
    "\n",
    "class random_weights(object):\n",
    "    \n",
    "    def weighted_random(self):\n",
    "        elements = ['1', '2', '3','4','5'] \n",
    "        weights = [.5,.25,.15,.05,.05]\n",
    "        return(choice(elements, p=weights))\n",
    "    \n",
    "    def recent_random(self):\n",
    "        \n",
    "        recent = self.weighted_random()\n",
    "        time_val = datetime.datetime.now()\n",
    "        text_file = open(\"Output_%s.txt\"%(time_val.strftime(\"%Y-%m-%d%H:%M:%S:%f\")), \"w\")\n",
    "        text_file.write(\"Most Recent: %s, time: %s\" % (recent,time_val.strftime(\"%Y-%m-%d%H:%M:%S:%f\")))\n",
    "        text_file.close()\n",
    "        print(recent,time_val.strftime(\"%Y-%m-%d %H:%M:%S:%f\"))\n",
    "        return(recent, time_val)\n",
    "    \n",
    "    def recent_random_threading(self):\n",
    "        \n",
    "        import thread\n",
    "        try:\n",
    "            thread.start_new_thread( self.recent_random, () )\n",
    "        except:\n",
    "            print \"Error: unable to start thread\"\n",
    "            \n",
    "    def hundred_hist(self):\n",
    "        hist = []\n",
    "        time_val = []\n",
    "        for i in range(0,100):\n",
    "            hist.append(self.weighted_random())\n",
    "            time_val.append(datetime.datetime.now())\n",
    "        return(hist, time_val)\n",
    "    \n",
    "    def freq_hundred(self):\n",
    "        hist, time = self.hundred_hist()\n",
    "        from collections import Counter\n",
    "        freqs = Counter(hist)\n",
    "        return(freqs)"
   ]
  },
  {
   "cell_type": "code",
   "execution_count": 175,
   "metadata": {},
   "outputs": [
    {
     "name": "stdout",
     "output_type": "stream",
     "text": [
      "('4', '2017-10-08 19:06:57:509445')\n"
     ]
    }
   ],
   "source": [
    "c = random_weights()\n",
    "c.recent_random_threading()"
   ]
  },
  {
   "cell_type": "markdown",
   "metadata": {},
   "source": [
    "# Modify the program so it has 5 copies of the random number function running concurrently in different threads. They should all feed the single writer thread counts and timestamps, and the writer should ensure they are written in chronological order."
   ]
  },
  {
   "cell_type": "code",
   "execution_count": 212,
   "metadata": {
    "collapsed": true
   },
   "outputs": [],
   "source": [
    "from numpy.random import choice\n",
    "import datetime\n",
    "\n",
    "class random_weights(object):\n",
    "    \n",
    "    def weighted_random(self):\n",
    "        elements = ['1', '2', '3','4','5'] \n",
    "        weights = [.5,.25,.15,.05,.05]\n",
    "        return(choice(elements, p=weights))\n",
    "    \n",
    "    def recent_random(self):\n",
    "        \n",
    "        recent = self.weighted_random()\n",
    "        time_val = datetime.datetime.now()\n",
    "        text_file = open(\"Output_%s.txt\"%(time_val.strftime(\"%Y-%m-%d%H:%M:%S:%f\")), \"w\")\n",
    "        text_file.write(\"Most Recent: %s, time: %s\" % (recent,time_val.strftime(\"%Y-%m-%d%H:%M:%S:%f\")))\n",
    "        text_file.close()\n",
    "        print(recent,time_val.strftime(\"%Y-%m-%d %H:%M:%S:%f\"))\n",
    "        return(recent, time_val)\n",
    "    \n",
    "    def recent_random_threading(self):\n",
    "        import thread\n",
    "        try:\n",
    "            thread.start_new_thread( self.recent_random, () )\n",
    "        except:\n",
    "            print \"Error: unable to start thread\"\n",
    "    \n",
    "    def recent_random_five_threading(self):\n",
    "        threads = []\n",
    "        for i in range(0,5):\n",
    "            t = threading.Thread(target=c.recent_random, args=())\n",
    "            time.sleep(1)\n",
    "            threads.append(t)\n",
    "            t.start()\n",
    "            print(t.getName())\n",
    "    \n",
    "    def hundred_hist(self):\n",
    "        hist = []\n",
    "        time_val = []\n",
    "        for i in range(0,100):\n",
    "            hist.append(self.weighted_random())\n",
    "            time_val.append(datetime.datetime.now())\n",
    "        return(hist, time_val)\n",
    "    \n",
    "    def freq_hundred(self):\n",
    "        hist, time = self.hundred_hist()\n",
    "        from collections import Counter\n",
    "        freqs = Counter(hist)\n",
    "        return(freqs)"
   ]
  },
  {
   "cell_type": "code",
   "execution_count": 213,
   "metadata": {},
   "outputs": [
    {
     "name": "stdout",
     "output_type": "stream",
     "text": [
      "Thread-198\n",
      "('1', '2017-10-08 19:41:42:552386')\n",
      "Thread-199\n",
      "('1', '2017-10-08 19:41:43:558882')\n",
      "Thread-200\n",
      "('1', '2017-10-08 19:41:44:565224')\n",
      "Thread-201\n",
      "('5', '2017-10-08 19:41:45:567005')\n",
      "Thread-202\n",
      "('4', '2017-10-08 19:41:46:573052')\n"
     ]
    }
   ],
   "source": [
    "d = random_weights()\n",
    "d.recent_random_five_threading()"
   ]
  },
  {
   "cell_type": "code",
   "execution_count": null,
   "metadata": {},
   "outputs": [],
   "source": []
  },
  {
   "cell_type": "code",
   "execution_count": null,
   "metadata": {
    "collapsed": true
   },
   "outputs": [],
   "source": []
  }
 ],
 "metadata": {
  "kernelspec": {
   "display_name": "Python 2",
   "language": "python",
   "name": "python2"
  },
  "language_info": {
   "codemirror_mode": {
    "name": "ipython",
    "version": 2
   },
   "file_extension": ".py",
   "mimetype": "text/x-python",
   "name": "python",
   "nbconvert_exporter": "python",
   "pygments_lexer": "ipython2",
   "version": "2.7.13"
  }
 },
 "nbformat": 4,
 "nbformat_minor": 2
}
