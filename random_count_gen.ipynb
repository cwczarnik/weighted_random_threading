{
 "cells": [
  {
   "cell_type": "markdown",
   "metadata": {},
   "source": [
    "## Christian Hansen"
   ]
  },
  {
   "cell_type": "markdown",
   "metadata": {},
   "source": [
    "### 1.) Create a function that prints a random number between 1 and 5 to stdout (or console). The probability distribution of the numbers should be as follows:\n",
    "\n",
    "1 - 50%\n",
    "\n",
    "2 - 25%\n",
    "\n",
    "3 - 15%\n",
    "\n",
    "4 - 5%\n",
    "\n",
    "5 - 5%\n"
   ]
  },
  {
   "cell_type": "markdown",
   "metadata": {},
   "source": [
    "Creating a function to return a number given a distinct probability for each number. Relying on the numpy library and it's random.choice function to asign probability weights to each value."
   ]
  },
  {
   "cell_type": "code",
   "execution_count": 221,
   "metadata": {
    "collapsed": true
   },
   "outputs": [],
   "source": [
    "def weighted_random():\n",
    "    from numpy.random import choice\n",
    "    elements = ['1', '2', '3','4','5'] \n",
    "    weights = [.5,.25,.15,.05,.05]\n",
    "    return(choice(elements, p=weights))"
   ]
  },
  {
   "cell_type": "code",
   "execution_count": 222,
   "metadata": {},
   "outputs": [
    {
     "data": {
      "text/plain": [
       "'1'"
      ]
     },
     "execution_count": 222,
     "metadata": {},
     "output_type": "execute_result"
    }
   ],
   "source": [
    "# The most probable value will be 1, of course.\n",
    "weighted_random()"
   ]
  },
  {
   "cell_type": "markdown",
   "metadata": {},
   "source": [
    "### 2.) Change the function to a method, add a class member that stores a history of the last 100 numbers, and a function to return the frequency percentages of each number."
   ]
  },
  {
   "cell_type": "markdown",
   "metadata": {},
   "source": [
    "Incorporating class structure and adding instance methods to both call  the weighted random number 100 times, store them, and a function to calculate the frequency of values.\n",
    "\n",
    "Using now the collections.Counter function to help count the frequency of each number."
   ]
  },
  {
   "cell_type": "code",
   "execution_count": 254,
   "metadata": {
    "collapsed": true
   },
   "outputs": [],
   "source": [
    "from numpy.random import choice\n",
    "\n",
    "class random_weights(object):\n",
    "    \n",
    "    def __init__(self):\n",
    "        pass\n",
    "    \n",
    "    def weighted_random(self):\n",
    "        elements = ['1', '2', '3','4','5'] \n",
    "        weights = [.5,.25,.15,.05,.05]\n",
    "        return(choice(elements, p=weights))\n",
    "    \n",
    "    def hundred_hist(self):\n",
    "        hist = []\n",
    "        time_val = []\n",
    "        for i in range(0,100):\n",
    "            hist.append(self.weighted_random())\n",
    "        return(hist)\n",
    "    \n",
    "    def freq_hundred(self):\n",
    "        hist = self.hundred_hist()\n",
    "        from collections import Counter\n",
    "        freqs = Counter(hist)\n",
    "        return(freqs)"
   ]
  },
  {
   "cell_type": "code",
   "execution_count": 255,
   "metadata": {},
   "outputs": [],
   "source": [
    "## Creating an instance of the class\n",
    "a = random_weights()"
   ]
  },
  {
   "cell_type": "code",
   "execution_count": 256,
   "metadata": {},
   "outputs": [
    {
     "name": "stdout",
     "output_type": "stream",
     "text": [
      "Counter({'1': 55, '2': 24, '3': 14, '4': 4, '5': 3})\n"
     ]
    }
   ],
   "source": [
    "## using the instance method freq_hundred to calculate the frequencies of values\n",
    "print(a.freq_hundred())"
   ]
  },
  {
   "cell_type": "markdown",
   "metadata": {},
   "source": [
    "### 3.) Create a method that reads the most recently generated random number and the current time and writes them both to disk on one line."
   ]
  },
  {
   "cell_type": "markdown",
   "metadata": {},
   "source": [
    "Same class structure as before, but an added function to calculate a random number and return the time it was generated and store both the number and the time to a .txt file."
   ]
  },
  {
   "cell_type": "code",
   "execution_count": 158,
   "metadata": {},
   "outputs": [],
   "source": [
    "from numpy.random import choice\n",
    "import datetime\n",
    "\n",
    "class random_weights(object):\n",
    "    \n",
    "    def __init__(self):\n",
    "        pass\n",
    "    \n",
    "    def weighted_random(self):\n",
    "        elements = ['1', '2', '3','4','5'] \n",
    "        weights = [.5,.25,.15,.05,.05]\n",
    "        return(choice(elements, p=weights))\n",
    "    \n",
    "    def recent_random(self):\n",
    "        \n",
    "        recent = self.weighted_random()\n",
    "        time_val = datetime.datetime.now()\n",
    "        text_file = open(\"Output_%s.txt\"%(time_val), \"w\")\n",
    "        text_file.write(\"Most Recent: %s, time: %s\" % (recent,time_val.strftime(\"%Y-%m-%d %H:%M:%S:%f\")))\n",
    "        text_file.close()\n",
    "        print(recent,time_val.strftime(\"%Y-%m-%d %H:%M:%S:%f\"))\n",
    "        return(recent, time_val)\n",
    "    \n",
    "    def hundred_hist(self):\n",
    "        hist = []\n",
    "        time_val = []\n",
    "        for i in range(0,100):\n",
    "            hist.append(self.weighted_random())\n",
    "            time_val.append(datetime.datetime.now())\n",
    "        return(hist, time_val)\n",
    "    \n",
    "    def freq_hundred(self):\n",
    "        hist, time = self.hundred_hist()\n",
    "        from collections import Counter\n",
    "        freqs = Counter(hist)\n",
    "        return(freqs)"
   ]
  },
  {
   "cell_type": "code",
   "execution_count": 159,
   "metadata": {
    "collapsed": true
   },
   "outputs": [],
   "source": [
    "b = random_weights()"
   ]
  },
  {
   "cell_type": "code",
   "execution_count": 160,
   "metadata": {},
   "outputs": [
    {
     "name": "stdout",
     "output_type": "stream",
     "text": [
      "('4', '2017-10-08 18:48:34:355991')\n"
     ]
    },
    {
     "data": {
      "text/plain": [
       "('4', datetime.datetime(2017, 10, 8, 18, 48, 34, 355991))"
      ]
     },
     "execution_count": 160,
     "metadata": {},
     "output_type": "execute_result"
    }
   ],
   "source": [
    "b.recent_random()"
   ]
  },
  {
   "cell_type": "code",
   "execution_count": 161,
   "metadata": {},
   "outputs": [
    {
     "data": {
      "text/plain": [
       "Counter({'1': 46, '2': 25, '3': 19, '4': 6, '5': 4})"
      ]
     },
     "execution_count": 161,
     "metadata": {},
     "output_type": "execute_result"
    }
   ],
   "source": [
    "b = random_weights()\n",
    "b.freq_hundred()"
   ]
  },
  {
   "cell_type": "markdown",
   "metadata": {},
   "source": [
    "### 4.) Modify the writer function so it is launched in a different thread. The random number generator should put the numbers and timestamps into a queue that the writer function uses to write its output to disk."
   ]
  },
  {
   "cell_type": "code",
   "execution_count": 174,
   "metadata": {
    "collapsed": true
   },
   "outputs": [],
   "source": [
    "from numpy.random import choice\n",
    "import datetime\n",
    "\n",
    "class random_weights(object):\n",
    "    \n",
    "    def __init__(self):\n",
    "        pass\n",
    "    \n",
    "    def weighted_random(self):\n",
    "        elements = ['1', '2', '3','4','5'] \n",
    "        weights = [.5,.25,.15,.05,.05]\n",
    "        return(choice(elements, p=weights))\n",
    "    \n",
    "    def recent_random(self):\n",
    "        \n",
    "        recent = self.weighted_random()\n",
    "        time_val = datetime.datetime.now()\n",
    "        text_file = open(\"Output_%s.txt\"%(time_val.strftime(\"%Y-%m-%d%H:%M:%S:%f\")), \"w\")\n",
    "        text_file.write(\"Most Recent: %s, time: %s\" % (recent,time_val.strftime(\"%Y-%m-%d%H:%M:%S:%f\")))\n",
    "        text_file.close()\n",
    "        print(recent,time_val.strftime(\"%Y-%m-%d %H:%M:%S:%f\"))\n",
    "        return(recent, time_val)\n",
    "    \n",
    "    def recent_random_threading(self):\n",
    "        \n",
    "        import thread\n",
    "        try:\n",
    "            thread.start_new_thread( self.recent_random, () )\n",
    "        \n",
    "        except:\n",
    "            print \"Error: unable to start thread\"\n",
    "            \n",
    "    def hundred_hist(self):\n",
    "        hist = []\n",
    "        time_val = []\n",
    "        for i in range(0,100):\n",
    "            hist.append(self.weighted_random())\n",
    "            time_val.append(datetime.datetime.now())\n",
    "        return(hist, time_val)\n",
    "    \n",
    "    def freq_hundred(self):\n",
    "        hist, time = self.hundred_hist()\n",
    "        from collections import Counter\n",
    "        freqs = Counter(hist)\n",
    "        return(freqs)"
   ]
  },
  {
   "cell_type": "markdown",
   "metadata": {},
   "source": [
    "Incorporating threading using a low level API called \"thread\". Starting a thread simply requires passing a function to the start_new_thread function. The threading function runs the function passed to it in a new thread."
   ]
  },
  {
   "cell_type": "code",
   "execution_count": 240,
   "metadata": {},
   "outputs": [
    {
     "name": "stdout",
     "output_type": "stream",
     "text": [
      "('1', '2017-10-08 20:05:43:899404')\n"
     ]
    }
   ],
   "source": [
    "c = random_weights()\n",
    "c.recent_random_threading()"
   ]
  },
  {
   "cell_type": "markdown",
   "metadata": {},
   "source": [
    "### 5.) Modify the program so it has 5 copies of the random number function running concurrently in different threads. They should all feed the single writer thread counts and timestamps, and the writer should ensure they are written in chronological order."
   ]
  },
  {
   "cell_type": "code",
   "execution_count": 257,
   "metadata": {},
   "outputs": [],
   "source": [
    "from numpy.random import choice\n",
    "import datetime\n",
    "\n",
    "class random_weights(object):\n",
    "    \n",
    "    def __init__(self):\n",
    "        pass\n",
    "    \n",
    "    def weighted_random(self):\n",
    "        elements = ['1', '2', '3','4','5'] \n",
    "        weights = [.5,.25,.15,.05,.05]\n",
    "        return(choice(elements, p=weights))\n",
    "    \n",
    "    def recent_random(self):\n",
    "        \n",
    "        recent = self.weighted_random()\n",
    "        time_val = datetime.datetime.now()\n",
    "        text_file = open(\"Output_%s.txt\"%(time_val.strftime(\"%Y-%m-%d%H:%M:%S:%f\")), \"w\")\n",
    "        text_file.write(\"Most Recent: %s, time: %s\" % (recent,time_val.strftime(\"%Y-%m-%d%H:%M:%S:%f\")))\n",
    "        text_file.close()\n",
    "        print(recent,time_val.strftime(\"%Y-%m-%d %H:%M:%S:%f\"))\n",
    "        return(recent, time_val)\n",
    "    \n",
    "    def recent_random_threading(self):\n",
    "        import thread\n",
    "        try:\n",
    "            thread.start_new_thread( self.recent_random, () )\n",
    "        except:\n",
    "            print \"Error: unable to start thread\"\n",
    "    \n",
    "    def recent_random_five_threading(self):\n",
    "        import threading\n",
    "        import logging\n",
    "        threads = []\n",
    "        for i in range(0,5):\n",
    "            try:\n",
    "                t = threading.Thread(target = c.recent_random)\n",
    "                time.sleep(1)\n",
    "                threads.append(t)\n",
    "                t.start()\n",
    "                print(t.getName())\n",
    "            except:\n",
    "                print \"Error: unable to start thread\"\n",
    "    \n",
    "    def hundred_hist(self):\n",
    "        hist = []\n",
    "        time_val = []\n",
    "        for i in range(0,100):\n",
    "            hist.append(self.weighted_random())\n",
    "            time_val.append(datetime.datetime.now())\n",
    "        return(hist, time_val)\n",
    "    \n",
    "    def freq_hundred(self):\n",
    "        hist, time = self.hundred_hist()\n",
    "        from collections import Counter\n",
    "        freqs = Counter(hist)\n",
    "        return(freqs)"
   ]
  },
  {
   "cell_type": "markdown",
   "metadata": {},
   "source": [
    "Adding a new function that does multithreading, it uses a more complex API, but allows for more control. I added a sleep time to gaurantee a solid space for threads in the que."
   ]
  },
  {
   "cell_type": "code",
   "execution_count": 258,
   "metadata": {},
   "outputs": [
    {
     "name": "stdout",
     "output_type": "stream",
     "text": [
      "Thread-228\n",
      "('2', '2017-10-08 20:44:53:043520')\n",
      "Thread-229\n",
      "('1', '2017-10-08 20:44:54:049618')\n",
      "Thread-230\n",
      "('1', '2017-10-08 20:44:55:052038')\n",
      "Thread-231\n",
      "('1', '2017-10-08 20:44:56:058206')\n",
      "Thread-232\n",
      "('3', '2017-10-08 20:44:57:061146')\n"
     ]
    }
   ],
   "source": [
    "d = random_weights()\n",
    "d.recent_random_five_threading()"
   ]
  },
  {
   "cell_type": "markdown",
   "metadata": {},
   "source": [
    "Multithreading still adhears to linear prosecution of a function per thread. If I were to parallelize it could be done at the same time, but that's not the case here."
   ]
  }
 ],
 "metadata": {
  "kernelspec": {
   "display_name": "Python 2",
   "language": "python",
   "name": "python2"
  },
  "language_info": {
   "codemirror_mode": {
    "name": "ipython",
    "version": 2
   },
   "file_extension": ".py",
   "mimetype": "text/x-python",
   "name": "python",
   "nbconvert_exporter": "python",
   "pygments_lexer": "ipython2",
   "version": "2.7.13"
  }
 },
 "nbformat": 4,
 "nbformat_minor": 2
}
