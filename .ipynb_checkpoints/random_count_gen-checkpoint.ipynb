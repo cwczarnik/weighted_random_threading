{
 "cells": [
  {
   "cell_type": "markdown",
   "metadata": {},
   "source": [
    "Each step of this should be committed in a version control system such as git. At the end, please submit the entire project and git history to us.\n"
   ]
  },
  {
   "cell_type": "markdown",
   "metadata": {},
   "source": [
    "### Create a function that prints a random number between 1 and 5 to stdout (or console). The probability distribution of the numbers should be as follows:\n",
    "\n",
    "1 - 50%\n",
    "\n",
    "2 - 25%\n",
    "\n",
    "3 - 15%\n",
    "\n",
    "4 - 5%\n",
    "\n",
    "5 - 5%\n"
   ]
  },
  {
   "cell_type": "code",
   "execution_count": 155,
   "metadata": {
    "collapsed": true
   },
   "outputs": [],
   "source": [
    "def weighted_random():\n",
    "    from numpy.random import choice\n",
    "    elements = ['1', '2', '3','4','5'] \n",
    "    weights = [.5,.25,.15,.05,.05]\n",
    "    return(choice(elements, p=weights))"
   ]
  },
  {
   "cell_type": "code",
   "execution_count": 156,
   "metadata": {},
   "outputs": [
    {
     "data": {
      "text/plain": [
       "'2'"
      ]
     },
     "execution_count": 156,
     "metadata": {},
     "output_type": "execute_result"
    }
   ],
   "source": [
    "weighted_random()"
   ]
  },
  {
   "cell_type": "markdown",
   "metadata": {},
   "source": [
    "### Change the function to a method, add a class member that stores a history of the last 100 numbers, and a function to return the frequency percentages of each number."
   ]
  },
  {
   "cell_type": "code",
   "execution_count": 157,
   "metadata": {
    "collapsed": true
   },
   "outputs": [],
   "source": [
    "from numpy.random import choice\n",
    "import datetime\n",
    "\n",
    "class random_weights(object):\n",
    "    \n",
    "    def weighted_random(self):\n",
    "        elements = ['1', '2', '3','4','5'] \n",
    "        weights = [.5,.25,.15,.05,.05]\n",
    "        return(choice(elements, p=weights))\n",
    "    \n",
    "    def hundred_hist(self):\n",
    "        hist = []\n",
    "        time_val = []\n",
    "        for i in range(0,100):\n",
    "            hist.append(self.weighted_random())\n",
    "            time_val.append(datetime.datetime.now())\n",
    "        return(hist, time_val)\n",
    "    \n",
    "    def freq_hundred(self):\n",
    "        hist, time = self.hundred_hist()\n",
    "        from collections import Counter\n",
    "        freqs = Counter(hist)\n",
    "        return(freqs)"
   ]
  },
  {
   "cell_type": "markdown",
   "metadata": {},
   "source": [
    "### Create a method that reads the most recently generated random number and the current time and writes them both to disk on one line."
   ]
  },
  {
   "cell_type": "code",
   "execution_count": 158,
   "metadata": {},
   "outputs": [],
   "source": [
    "from numpy.random import choice\n",
    "import datetime\n",
    "\n",
    "class random_weights(object):\n",
    "    \n",
    "    def weighted_random(self):\n",
    "        elements = ['1', '2', '3','4','5'] \n",
    "        weights = [.5,.25,.15,.05,.05]\n",
    "        return(choice(elements, p=weights))\n",
    "    \n",
    "    def recent_random(self):\n",
    "        \n",
    "        recent = self.weighted_random()\n",
    "        time_val = datetime.datetime.now()\n",
    "        text_file = open(\"Output_%s.txt\"%(time_val), \"w\")\n",
    "        text_file.write(\"Most Recent: %s, time: %s\" % (recent,time_val.strftime(\"%Y-%m-%d %H:%M:%S:%f\")))\n",
    "        text_file.close()\n",
    "        print(recent,time_val.strftime(\"%Y-%m-%d %H:%M:%S:%f\"))\n",
    "        return(recent, time_val)\n",
    "    \n",
    "    def hundred_hist(self):\n",
    "        hist = []\n",
    "        time_val = []\n",
    "        for i in range(0,100):\n",
    "            hist.append(self.weighted_random())\n",
    "            time_val.append(datetime.datetime.now())\n",
    "        return(hist, time_val)\n",
    "    \n",
    "    def freq_hundred(self):\n",
    "        hist, time = self.hundred_hist()\n",
    "        from collections import Counter\n",
    "        freqs = Counter(hist)\n",
    "        return(freqs)"
   ]
  },
  {
   "cell_type": "code",
   "execution_count": 159,
   "metadata": {
    "collapsed": true
   },
   "outputs": [],
   "source": [
    "b = random_weights()"
   ]
  },
  {
   "cell_type": "code",
   "execution_count": 160,
   "metadata": {},
   "outputs": [
    {
     "name": "stdout",
     "output_type": "stream",
     "text": [
      "('4', '2017-10-08 18:48:34:355991')\n"
     ]
    },
    {
     "data": {
      "text/plain": [
       "('4', datetime.datetime(2017, 10, 8, 18, 48, 34, 355991))"
      ]
     },
     "execution_count": 160,
     "metadata": {},
     "output_type": "execute_result"
    }
   ],
   "source": [
    "b.recent_random()"
   ]
  },
  {
   "cell_type": "code",
   "execution_count": 161,
   "metadata": {},
   "outputs": [
    {
     "data": {
      "text/plain": [
       "Counter({'1': 46, '2': 25, '3': 19, '4': 6, '5': 4})"
      ]
     },
     "execution_count": 161,
     "metadata": {},
     "output_type": "execute_result"
    }
   ],
   "source": [
    "b = random_weights()\n",
    "b.freq_hundred()"
   ]
  },
  {
   "cell_type": "markdown",
   "metadata": {},
   "source": [
    "# Modify the writer function so it is launched in a different thread. The random number generator should put the numbers and timestamps into a queue that the writer function uses to write its output to disk."
   ]
  },
  {
   "cell_type": "code",
   "execution_count": 174,
   "metadata": {
    "collapsed": true
   },
   "outputs": [],
   "source": [
    "from numpy.random import choice\n",
    "import datetime\n",
    "\n",
    "class random_weights(object):\n",
    "    \n",
    "    def weighted_random(self):\n",
    "        elements = ['1', '2', '3','4','5'] \n",
    "        weights = [.5,.25,.15,.05,.05]\n",
    "        return(choice(elements, p=weights))\n",
    "    \n",
    "    def recent_random(self):\n",
    "        \n",
    "        recent = self.weighted_random()\n",
    "        time_val = datetime.datetime.now()\n",
    "        text_file = open(\"Output_%s.txt\"%(time_val.strftime(\"%Y-%m-%d%H:%M:%S:%f\")), \"w\")\n",
    "        text_file.write(\"Most Recent: %s, time: %s\" % (recent,time_val.strftime(\"%Y-%m-%d%H:%M:%S:%f\")))\n",
    "        text_file.close()\n",
    "        print(recent,time_val.strftime(\"%Y-%m-%d %H:%M:%S:%f\"))\n",
    "        return(recent, time_val)\n",
    "    \n",
    "    def recent_random_threading(self):\n",
    "        \n",
    "        import thread\n",
    "        try:\n",
    "            thread.start_new_thread( self.recent_random, () )\n",
    "        except:\n",
    "            print \"Error: unable to start thread\"\n",
    "            \n",
    "    def hundred_hist(self):\n",
    "        hist = []\n",
    "        time_val = []\n",
    "        for i in range(0,100):\n",
    "            hist.append(self.weighted_random())\n",
    "            time_val.append(datetime.datetime.now())\n",
    "        return(hist, time_val)\n",
    "    \n",
    "    def freq_hundred(self):\n",
    "        hist, time = self.hundred_hist()\n",
    "        from collections import Counter\n",
    "        freqs = Counter(hist)\n",
    "        return(freqs)"
   ]
  },
  {
   "cell_type": "code",
   "execution_count": 175,
   "metadata": {},
   "outputs": [
    {
     "name": "stdout",
     "output_type": "stream",
     "text": [
      "('4', '2017-10-08 19:06:57:509445')\n"
     ]
    }
   ],
   "source": [
    "c = random_weights()\n",
    "c.recent_random_threading()"
   ]
  },
  {
   "cell_type": "markdown",
   "metadata": {},
   "source": [
    "# Modify the program so it has 5 copies of the random number function running concurrently in different threads. They should all feed the single writer thread counts and timestamps, and the writer should ensure they are written in chronological order."
   ]
  },
  {
   "cell_type": "code",
   "execution_count": 195,
   "metadata": {
    "collapsed": true
   },
   "outputs": [],
   "source": [
    "from numpy.random import choice\n",
    "import datetime\n",
    "\n",
    "class random_weights(object):\n",
    "    \n",
    "    def weighted_random(self):\n",
    "        elements = ['1', '2', '3','4','5'] \n",
    "        weights = [.5,.25,.15,.05,.05]\n",
    "        return(choice(elements, p=weights))\n",
    "    \n",
    "    def recent_random(self):\n",
    "        \n",
    "        recent = self.weighted_random()\n",
    "        time_val = datetime.datetime.now()\n",
    "        text_file = open(\"Output_%s.txt\"%(time_val.strftime(\"%Y-%m-%d%H:%M:%S:%f\")), \"w\")\n",
    "        text_file.write(\"Most Recent: %s, time: %s\" % (recent,time_val.strftime(\"%Y-%m-%d%H:%M:%S:%f\")))\n",
    "        text_file.close()\n",
    "        print(recent,time_val.strftime(\"%Y-%m-%d %H:%M:%S:%f\"))\n",
    "        return(recent, time_val)\n",
    "    \n",
    "    def recent_random_threading(self):\n",
    "        import thread\n",
    "        try:\n",
    "            thread.start_new_thread( self.recent_random, () )\n",
    "        except:\n",
    "            print \"Error: unable to start thread\"\n",
    "    \n",
    "    def recent_random_five_threading(self):\n",
    "        threads = []\n",
    "        for i in range(0,5):\n",
    "            t = threading.Thread(target=c.recent_random, args=())\n",
    "            time.sleep(1)\n",
    "            threads.append(t)\n",
    "            t.start()\n",
    "    \n",
    "    def hundred_hist(self):\n",
    "        hist = []\n",
    "        time_val = []\n",
    "        for i in range(0,100):\n",
    "            hist.append(self.weighted_random())\n",
    "            time_val.append(datetime.datetime.now())\n",
    "        return(hist, time_val)\n",
    "    \n",
    "    def freq_hundred(self):\n",
    "        hist, time = self.hundred_hist()\n",
    "        from collections import Counter\n",
    "        freqs = Counter(hist)\n",
    "        return(freqs)"
   ]
  },
  {
   "cell_type": "code",
   "execution_count": null,
   "metadata": {},
   "outputs": [
    {
     "name": "stdout",
     "output_type": "stream",
     "text": [
      "('2', '2017-10-08 19:19:29:293709')\n",
      "('3', '2017-10-08 19:19:30:299922')\n",
      "('2', '2017-10-08 19:19:31:305221')\n",
      "('1', '2017-10-08 19:19:32:305978')\n"
     ]
    }
   ],
   "source": [
    "import threading\n",
    "threads = []\n",
    "for i in range(0,5):\n",
    "    t = threading.Thread(target=c.recent_random, args=())\n",
    "    threads.append(t)\n",
    "    time.sleep(1)\n",
    "    t.start()"
   ]
  },
  {
   "cell_type": "code",
   "execution_count": null,
   "metadata": {},
   "outputs": [],
   "source": []
  },
  {
   "cell_type": "code",
   "execution_count": null,
   "metadata": {
    "collapsed": true
   },
   "outputs": [],
   "source": []
  }
 ],
 "metadata": {
  "kernelspec": {
   "display_name": "Python 2",
   "language": "python",
   "name": "python2"
  },
  "language_info": {
   "codemirror_mode": {
    "name": "ipython",
    "version": 2
   },
   "file_extension": ".py",
   "mimetype": "text/x-python",
   "name": "python",
   "nbconvert_exporter": "python",
   "pygments_lexer": "ipython2",
   "version": "2.7.13"
  }
 },
 "nbformat": 4,
 "nbformat_minor": 2
}
